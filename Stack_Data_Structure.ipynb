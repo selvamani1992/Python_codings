{
  "nbformat": 4,
  "nbformat_minor": 0,
  "metadata": {
    "colab": {
      "provenance": [],
      "authorship_tag": "ABX9TyPTH0NWEfvjuBLzGJasT2hv"
    },
    "kernelspec": {
      "name": "python3",
      "display_name": "Python 3"
    },
    "language_info": {
      "name": "python"
    }
  },
  "cells": [
    {
      "cell_type": "code",
      "execution_count": 1,
      "metadata": {
        "id": "xpnJuXDFVwVk"
      },
      "outputs": [],
      "source": [
        "class Stack:\n",
        "    def __init__(self):\n",
        "        self.items = []\n",
        "\n",
        "    def insert(self, item):\n",
        "        self.items.append(item)\n",
        "\n",
        "    def delete(self):\n",
        "        try:\n",
        "          return self.items.pop()\n",
        "        except:\n",
        "          print(\"Stack is empty\")\n",
        "\n",
        "    def display(self):\n",
        "        for i in self.items:\n",
        "          print(i)"
      ]
    },
    {
      "cell_type": "code",
      "source": [
        "my_stack = Stack() #creating an object"
      ],
      "metadata": {
        "id": "z_Row51CV0Fc"
      },
      "execution_count": 2,
      "outputs": []
    },
    {
      "cell_type": "code",
      "source": [
        "my_stack.delete() #trying to delete data from empty list"
      ],
      "metadata": {
        "colab": {
          "base_uri": "https://localhost:8080/"
        },
        "id": "R5geaAHoV14b",
        "outputId": "e2c97e8a-32eb-4f9d-b956-e4796cc62397"
      },
      "execution_count": 3,
      "outputs": [
        {
          "output_type": "stream",
          "name": "stdout",
          "text": [
            "Stack is empty\n"
          ]
        }
      ]
    },
    {
      "cell_type": "code",
      "source": [
        "# adding 5 data to the object individually\n",
        "my_stack.insert(1)\n",
        "my_stack.insert(2)"
      ],
      "metadata": {
        "id": "2el7r0uxV3vg"
      },
      "execution_count": 4,
      "outputs": []
    },
    {
      "cell_type": "code",
      "source": [
        "for i in range(3,6):\n",
        "  my_stack.insert(i)"
      ],
      "metadata": {
        "id": "VDqlPoQbV_a5"
      },
      "execution_count": 5,
      "outputs": []
    },
    {
      "cell_type": "code",
      "source": [
        "#display data from object\n",
        "\n",
        "my_stack.display()"
      ],
      "metadata": {
        "colab": {
          "base_uri": "https://localhost:8080/"
        },
        "id": "CyeZtJMIWE2W",
        "outputId": "5808b7bf-33ec-431c-8efd-999f90a6380a"
      },
      "execution_count": 6,
      "outputs": [
        {
          "output_type": "stream",
          "name": "stdout",
          "text": [
            "1\n",
            "2\n",
            "3\n",
            "4\n",
            "5\n"
          ]
        }
      ]
    },
    {
      "cell_type": "code",
      "source": [
        "my_stack.delete() #delete data from stack (by default it will delete last data from the list)"
      ],
      "metadata": {
        "colab": {
          "base_uri": "https://localhost:8080/"
        },
        "id": "eMjYSHrAWG1-",
        "outputId": "9f33bb15-57a7-43a5-87c7-d25b0f901f11"
      },
      "execution_count": 7,
      "outputs": [
        {
          "output_type": "execute_result",
          "data": {
            "text/plain": [
              "5"
            ]
          },
          "metadata": {},
          "execution_count": 7
        }
      ]
    },
    {
      "cell_type": "code",
      "source": [
        "my_stack.display() #display list of data after deleting 1 delete performance"
      ],
      "metadata": {
        "colab": {
          "base_uri": "https://localhost:8080/"
        },
        "id": "31Fk-Vq3WI-L",
        "outputId": "883a0b75-d89a-4d3a-f434-4652857b25cd"
      },
      "execution_count": 8,
      "outputs": [
        {
          "output_type": "stream",
          "name": "stdout",
          "text": [
            "1\n",
            "2\n",
            "3\n",
            "4\n"
          ]
        }
      ]
    }
  ]
}