{
  "nbformat": 4,
  "nbformat_minor": 0,
  "metadata": {
    "colab": {
      "provenance": [],
      "authorship_tag": "ABX9TyMsiQxs13fjJMrWF5enoYGB",
      "include_colab_link": true
    },
    "kernelspec": {
      "name": "python3",
      "display_name": "Python 3"
    },
    "language_info": {
      "name": "python"
    }
  },
  "cells": [
    {
      "cell_type": "markdown",
      "metadata": {
        "id": "view-in-github",
        "colab_type": "text"
      },
      "source": [
        "<a href=\"https://colab.research.google.com/github/selvamani1992/Python_codings/blob/main/Dish_in_Alphabet_Land.ipynb\" target=\"_parent\"><img src=\"https://colab.research.google.com/assets/colab-badge.svg\" alt=\"Open In Colab\"/></a>"
      ]
    },
    {
      "cell_type": "markdown",
      "source": [
        "# A dish in Alphabet Land is made up of lower case English alphabets\n",
        "\n",
        "You are given a source dish Each alphabet from the source dish can be used as an ingredient at most once. The ingredients can t combined later to prepare a new dish <br> <br>\n",
        "\n",
        "Your task is to determine if a given dish can be prepared from the ingredients of the source dish <br>\n",
        "\n",
        "**Input** <br> <br>\n",
        "\n",
        "The first line is a string S denoting the source dish. The next line is an integer N denoting the number of dishes that have to be prepared Nines follow Each line consists of a string A representing a dish <br> <br>\n",
        "\n",
        "**Output** <br> <br>\n",
        "\n",
        "Print N lines A line should contain YES if the dish can be prepared from the source dish or NO if the dish cannot be prepared from the source dish <br>\n",
        " <br>\n",
        "**Sample testcase:** <br> <br>\n",
        "**input** <br>\n",
        "abbbcc <br>\n",
        "4 <br>\n",
        "ab <br>\n",
        "abccc <br>\n",
        "abbcc <br>\n",
        "abd <br>\n",
        "\n",
        "**Output** <br>\n",
        "Yes <br>\n",
        "No <br>\n",
        "Yes <br>\n",
        "No <br>\n"
      ],
      "metadata": {
        "id": "yZIhE9kgMzTY"
      }
    },
    {
      "cell_type": "code",
      "execution_count": 1,
      "metadata": {
        "id": "5nBIzF2KMhZ8"
      },
      "outputs": [],
      "source": [
        "def prepare_dish(source_dish, dish):\n",
        "    source_count = {}\n",
        "    for char in source_dish:\n",
        "        source_count[char] = source_count.get(char, 0) + 1\n",
        "\n",
        "    for char in dish:\n",
        "        if char not in source_count or source_count[char] == 0:\n",
        "            return \"No\"\n",
        "        source_count[char] -= 1\n",
        "\n",
        "    return \"Yes\""
      ]
    },
    {
      "cell_type": "code",
      "source": [
        "source_dish = input().strip()\n",
        "\n",
        "# Read the number of dishes to prepare\n",
        "n = int(input().strip())\n",
        "\n",
        "# Process each dish\n",
        "for _ in range(n):\n",
        "    new_dish = input().strip()\n",
        "    result = prepare_dish(source_dish, new_dish)\n",
        "    print(result)\n"
      ],
      "metadata": {
        "colab": {
          "base_uri": "https://localhost:8080/"
        },
        "id": "IZazkjZgNdHL",
        "outputId": "eb682941-12b0-4b71-aab4-c66bc028ab2b"
      },
      "execution_count": 2,
      "outputs": [
        {
          "output_type": "stream",
          "name": "stdout",
          "text": [
            "abbbcc\n",
            "4\n",
            "abb\n",
            "Yes\n",
            "abccc\n",
            "No\n",
            "abbcc\n",
            "Yes\n",
            "aabbcc\n",
            "No\n"
          ]
        }
      ]
    }
  ]
}