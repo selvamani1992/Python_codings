{
  "nbformat": 4,
  "nbformat_minor": 0,
  "metadata": {
    "colab": {
      "provenance": [],
      "authorship_tag": "ABX9TyOXKReTcZxV4CKjIOZgylpY"
    },
    "kernelspec": {
      "name": "python3",
      "display_name": "Python 3"
    },
    "language_info": {
      "name": "python"
    }
  },
  "cells": [
    {
      "cell_type": "markdown",
      "source": [
        "# Reverse alternative k elements in a list"
      ],
      "metadata": {
        "id": "xjirftp0Lyjk"
      }
    },
    {
      "cell_type": "code",
      "execution_count": 1,
      "metadata": {
        "id": "dUgBOL4zKxxP"
      },
      "outputs": [],
      "source": [
        "def reverse_alternate_k(n,lst, k):\n",
        "    i = 0\n",
        "    while i < n:\n",
        "        if i + k <= n:\n",
        "            lst[i:i + k] = lst[i:i + k][::-1]\n",
        "        i += 2 * k\n",
        "    return lst"
      ]
    },
    {
      "cell_type": "code",
      "source": [
        "n = int(input().strip())\n",
        "values = list(map(int, input().strip().split()))[:n]\n",
        "k = int(input().strip())\n",
        "\n",
        "# Reverse alternative k elements in the list\n",
        "new_values = reverse_alternate_k(n,values, k)\n",
        "\n",
        "print(*new_values)"
      ],
      "metadata": {
        "colab": {
          "base_uri": "https://localhost:8080/"
        },
        "id": "rCCqEB1DLUdt",
        "outputId": "71a8265a-58c1-43a1-84f1-d40668fd6a76"
      },
      "execution_count": 2,
      "outputs": [
        {
          "output_type": "stream",
          "name": "stdout",
          "text": [
            "8\n",
            "1 2 3 4 5 6 7 8\n",
            "2\n",
            "2 1 3 4 6 5 7 8\n"
          ]
        }
      ]
    }
  ]
}
